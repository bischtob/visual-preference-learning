{
 "cells": [
  {
   "cell_type": "code",
   "execution_count": 1,
   "metadata": {},
   "outputs": [],
   "source": [
    "%matplotlib inline\n",
    "\n",
    "import matplotlib as mpl\n",
    "import matplotlib.pyplot as plt\n",
    "import numpy as np\n",
    "\n",
    "from scipy.spatial import KDTree\n",
    "from bayesian import BOE"
   ]
  },
  {
   "cell_type": "code",
   "execution_count": 2,
   "metadata": {},
   "outputs": [],
   "source": [
    "# Obtain coordinates and function\n",
    "data = np.load('../data/cnn_embedding.npz')\n",
    "coordinates = data['emb']\n",
    "coodinates = coordinates/np.max(coordinates, axis=0)*5\n",
    "\n",
    "def f(x):\n",
    "    x = np.atleast_2d(x)\n",
    "    fc = -197.68+5/14*(1106.9+np.sum(x**2-5.0*np.cos(2*np.pi*x), axis=1))[:,None]\n",
    "    return fc\n",
    "f_c = f(coordinates) \n",
    "\n",
    "# Function evaluated at coordinated\n",
    "ind = np.random.randint(coordinates.shape[0])\n",
    "x = np.atleast_2d(coordinates[ind,:])\n",
    "y = np.atleast_2d(f_c[ind,:])"
   ]
  },
  {
   "cell_type": "code",
   "execution_count": 3,
   "metadata": {},
   "outputs": [],
   "source": [
    "# Set up optimization model\n",
    "optimizer = BOE(coordinates)\n",
    "\n",
    "# Initialize KDTree\n",
    "nn_tree = KDTree(coordinates)"
   ]
  },
  {
   "cell_type": "code",
   "execution_count": 4,
   "metadata": {},
   "outputs": [],
   "source": [
    "# Optimize function\n",
    "for __ in range(15):\n",
    "    optimizer.optimize(x, y)\n",
    "    x = optimizer.next_sample\n",
    "    dist, ind = nn_tree.query(x, k=1)\n",
    "    y = np.atleast_2d(f_c[ind])"
   ]
  },
  {
   "cell_type": "code",
   "execution_count": 5,
   "metadata": {},
   "outputs": [
    {
     "data": {
      "image/png": "[encoded data removed]",
      "text/plain": [
       "<matplotlib.figure.Figure at 0x1193f4080>"
      ]
     },
     "metadata": {},
     "output_type": "display_data"
    },
    {
     "data": {
      "text/plain": [
       "[<matplotlib.lines.Line2D at 0x12743ff60>]"
      ]
     },
     "execution_count": 5,
     "metadata": {},
     "output_type": "execute_result"
    },
    {
     "data": {
      "image/png": "[encoded data removed]",
      "text/plain": [
       "<matplotlib.figure.Figure at 0x11ee167f0>"
      ]
     },
     "metadata": {},
     "output_type": "display_data"
    }
   ],
   "source": [
    "# Check for convergence\n",
    "optimizer.model.plot_convergence()\n",
    "plt.plot(sorted(f_c), 'bx')"
   ]
  },
  {
   "cell_type": "code",
   "execution_count": 6,
   "metadata": {},
   "outputs": [
    {
     "data": {
      "text/plain": [
       "array([[ 2.55148048],\n",
       "       [ 2.55148048],\n",
       "       [ 2.55148048],\n",
       "       [ 2.55148048],\n",
       "       [ 2.55148048],\n",
       "       [ 2.55148048],\n",
       "       [ 2.55148048],\n",
       "       [ 2.55148048],\n",
       "       [ 2.55148048],\n",
       "       [ 2.55148048],\n",
       "       [ 2.55148048],\n",
       "       [ 2.55148048],\n",
       "       [ 2.55148048],\n",
       "       [ 2.55148048],\n",
       "       [ 2.55148048]])"
      ]
     },
     "execution_count": 6,
     "metadata": {},
     "output_type": "execute_result"
    }
   ],
   "source": [
    "optimizer._Y"
   ]
  },
  {
   "cell_type": "code",
   "execution_count": null,
   "metadata": {
    "collapsed": true
   },
   "outputs": [],
   "source": []
  }
 ],
 "metadata": {
  "kernelspec": {
   "display_name": "Python 3",
   "language": "python",
   "name": "python3"
  },
  "language_info": {
   "codemirror_mode": {
    "name": "ipython",
    "version": 3
   },
   "file_extension": ".py",
   "mimetype": "text/x-python",
   "name": "python",
   "nbconvert_exporter": "python",
   "pygments_lexer": "ipython3",
   "version": "3.6.0"
  }
 },
 "nbformat": 4,
 "nbformat_minor": 1
}
