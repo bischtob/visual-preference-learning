{
 "cells": [
  {
   "cell_type": "code",
   "execution_count": 1,
   "metadata": {},
   "outputs": [],
   "source": [
    "%matplotlib inline\n",
    "\n",
    "import matplotlib as mpl\n",
    "import matplotlib.pyplot as plt\n",
    "import numpy as np\n",
    "\n",
    "from scipy.spatial import KDTree\n",
    "from bayesian import BOE"
   ]
  },
  {
   "cell_type": "code",
   "execution_count": 16,
   "metadata": {
    "collapsed": true
   },
   "outputs": [],
   "source": [
    "# Obtain coordinates and function\n",
    "data = np.load('../data/cnn_embedding.npz')\n",
    "coordinates = data['emb']\n",
    "coordinates = (coordinates/np.max(coordinates, axis=0)*5)\n",
    "\n",
    "def f(X):\n",
    "    p = np.atleast_2d(X)\n",
    "    fc = 5.0/675.8538*(94.104618492964647+(np.sum(p**2-10.0*np.cos(2*np.pi*p), axis=1))[:,None])\n",
    "    return fc\n",
    "f_c = f(coordinates) \n",
    "\n",
    "# Function evaluated at coordinated\n",
    "ind = np.random.randint(coordinates.shape[0])\n",
    "x = np.atleast_2d(coordinates[ind:ind+3,:])\n",
    "y = np.atleast_2d(f_c[ind:ind+3,:])"
   ]
  },
  {
   "cell_type": "code",
   "execution_count": null,
   "metadata": {},
   "outputs": [],
   "source": [
    "# Set up optimization model\n",
    "optimizer = BOE(x, y, coordinates)\n",
    "\n",
    "# Initialize KDTree\n",
    "nn_tree = KDTree(coordinates)"
   ]
  },
  {
   "cell_type": "code",
   "execution_count": null,
   "metadata": {},
   "outputs": [],
   "source": [
    "# Optimize function\n",
    "for __ in range(15):\n",
    "    x_next = optimizer.next()\n",
    "    dist, ind = nn_tree.query(x_next, k=1)\n",
    "    y_next = np.atleast_2d(f_c[ind])\n",
    "    optimizer.update_history(x_next, y_next)"
   ]
  },
  {
   "cell_type": "code",
   "execution_count": null,
   "metadata": {},
   "outputs": [],
   "source": [
    "optimizer.model.plot_convergence(), plt.plot(sorted(f_c)), np.min(f_c)"
   ]
  },
  {
   "cell_type": "code",
   "execution_count": null,
   "metadata": {
    "collapsed": true
   },
   "outputs": [],
   "source": []
  }
 ],
 "metadata": {
  "kernelspec": {
   "display_name": "Python 3",
   "language": "python",
   "name": "python3"
  },
  "language_info": {
   "codemirror_mode": {
    "name": "ipython",
    "version": 3
   },
   "file_extension": ".py",
   "mimetype": "text/x-python",
   "name": "python",
   "nbconvert_exporter": "python",
   "pygments_lexer": "ipython3",
   "version": "3.6.1"
  }
 },
 "nbformat": 4,
 "nbformat_minor": 1
}
